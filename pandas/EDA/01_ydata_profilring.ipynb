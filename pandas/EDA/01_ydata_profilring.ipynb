{
 "cells": [
  {
   "cell_type": "markdown",
   "metadata": {},
   "source": [
    "# Automatic EDA using ydata_profiling ("
   ]
  },
  {
   "cell_type": "code",
   "execution_count": 16,
   "metadata": {},
   "outputs": [
    {
     "name": "stderr",
     "output_type": "stream",
     "text": [
      "c:\\Users\\Mr. Daud Shah\\miniconda3\\envs\\python_ml\\Lib\\site-packages\\tqdm\\auto.py:21: TqdmWarning: IProgress not found. Please update jupyter and ipywidgets. See https://ipywidgets.readthedocs.io/en/stable/user_install.html\n",
      "  from .autonotebook import tqdm as notebook_tqdm\n"
     ]
    }
   ],
   "source": [
    "import pandas as pd\n",
    "import seaborn as sns\n",
    "import ydata_profiling as yd"
   ]
  },
  {
   "cell_type": "code",
   "execution_count": 17,
   "metadata": {},
   "outputs": [],
   "source": [
    "# import data from seaborn\n",
    "df = sns.load_dataset('titanic')"
   ]
  },
  {
   "cell_type": "code",
   "execution_count": 19,
   "metadata": {},
   "outputs": [
    {
     "name": "stderr",
     "output_type": "stream",
     "text": [
      "Summarize dataset:   0%|          | 0/5 [00:00<?, ?it/s]"
     ]
    },
    {
     "name": "stderr",
     "output_type": "stream",
     "text": [
      "Summarize dataset: 100%|██████████| 41/41 [00:07<00:00,  5.46it/s, Completed]                    \n",
      "Generate report structure: 100%|██████████| 1/1 [00:08<00:00,  8.94s/it]\n",
      "Render HTML: 100%|██████████| 1/1 [00:02<00:00,  2.16s/it]\n",
      "Export report to file: 100%|██████████| 1/1 [00:00<00:00,  2.88it/s]\n"
     ]
    }
   ],
   "source": [
    "# ydata profiling report\n",
    "profile=yd.ProfileReport(df)\n",
    "profile.to_file(output_file='03_ydata_titanic.html')"
   ]
  },
  {
   "cell_type": "markdown",
   "metadata": {},
   "source": [
    "# Do it on our pakistan Polulation Dataset"
   ]
  },
  {
   "cell_type": "code",
   "execution_count": 20,
   "metadata": {},
   "outputs": [],
   "source": [
    "df_pop = pd.read_csv('./data.csv')"
   ]
  },
  {
   "cell_type": "code",
   "execution_count": 21,
   "metadata": {},
   "outputs": [
    {
     "name": "stderr",
     "output_type": "stream",
     "text": [
      "Summarize dataset: 100%|██████████| 319/319 [01:29<00:00,  3.56it/s, Completed]                                                     \n",
      "Generate report structure: 100%|██████████| 1/1 [00:17<00:00, 17.02s/it]\n",
      "Render HTML: 100%|██████████| 1/1 [00:14<00:00, 14.48s/it]\n",
      "Export report to file: 100%|██████████| 1/1 [00:00<00:00,  1.70it/s]\n"
     ]
    }
   ],
   "source": [
    "profile=yd.ProfileReport(df_pop)\n",
    "profile.to_file(output_file='03b_ydata_pal_poluation.html')"
   ]
  }
 ],
 "metadata": {
  "kernelspec": {
   "display_name": "base",
   "language": "python",
   "name": "python3"
  },
  "language_info": {
   "codemirror_mode": {
    "name": "ipython",
    "version": 3
   },
   "file_extension": ".py",
   "mimetype": "text/x-python",
   "name": "python",
   "nbconvert_exporter": "python",
   "pygments_lexer": "ipython3",
   "version": "3.11.0"
  }
 },
 "nbformat": 4,
 "nbformat_minor": 2
}
